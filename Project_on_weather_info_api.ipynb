{
  "nbformat": 4,
  "nbformat_minor": 0,
  "metadata": {
    "colab": {
      "name": "Project on weather info api.ipynb",
      "provenance": [],
      "authorship_tag": "ABX9TyOMvqcVTJrpWGcjp1Jqo04V",
      "include_colab_link": true
    },
    "kernelspec": {
      "name": "python3",
      "display_name": "Python 3"
    },
    "language_info": {
      "name": "python"
    }
  },
  "cells": [
    {
      "cell_type": "markdown",
      "metadata": {
        "id": "view-in-github",
        "colab_type": "text"
      },
      "source": [
        "<a href=\"https://colab.research.google.com/github/swathimanoharan1/Assignment-Submission-/blob/main/Project_on_weather_info_api.ipynb\" target=\"_parent\"><img src=\"https://colab.research.google.com/assets/colab-badge.svg\" alt=\"Open In Colab\"/></a>"
      ]
    },
    {
      "cell_type": "code",
      "metadata": {
        "colab": {
          "base_uri": "https://localhost:8080/"
        },
        "id": "K6l-NCWx-i72",
        "outputId": "502838c0-d75d-4229-d5c9-b659bd30b14b"
      },
      "source": [
        "\n",
        "import requests, json\n",
        "\n",
        "BASE_URL = \"https://api.openweathermap.org/data/2.5/weather?\"\n",
        "CITY = input(\"Enter Your City: \")\n",
        "API_KEY = input(\"Enter Your API Key: \")\n",
        "URL = BASE_URL + \"q=\" + CITY + \"&appid=\" + API_KEY\n",
        "response = requests.get(URL)\n",
        "if response.status_code == 200:\n",
        "   data = response.json()\n",
        "   main = data['main']\n",
        "   temperature = main['temp']\n",
        "   humidity = main['humidity']\n",
        "   pressure = main['pressure']\n",
        "   report = data['weather']\n",
        "   print(f\"{CITY:-^30}\")\n",
        "   print(f\"Temperature: {temperature}\")\n",
        "   print(f\"Humidity: {humidity}\")\n",
        "   print(f\"Pressure: {pressure}\")\n",
        "   print(f\"Weather Report: {report[0]['description']}\")\n",
        "else:\n",
        "   print(\"Error in the HTTP request\")"
      ],
      "execution_count": 13,
      "outputs": [
        {
          "output_type": "stream",
          "text": [
            "Enter Your City: Coimbatore \n",
            "Enter Your API Key: d0dafe46f14fa469de36dccf97cdcd43\n",
            "---------Coimbatore ----------\n",
            "Temperature: 302.03\n",
            "Humidity: 61\n",
            "Pressure: 1004\n",
            "Weather Report: light rain\n"
          ],
          "name": "stdout"
        }
      ]
    }
  ]
}
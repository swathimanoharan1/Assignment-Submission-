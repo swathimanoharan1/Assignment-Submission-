{
  "nbformat": 4,
  "nbformat_minor": 0,
  "metadata": {
    "colab": {
      "name": "Assignment day 4 and 5.ipynb",
      "provenance": [],
      "authorship_tag": "ABX9TyPFE90YRxF3G0ziys7TqiYZ",
      "include_colab_link": true
    },
    "kernelspec": {
      "name": "python3",
      "display_name": "Python 3"
    },
    "language_info": {
      "name": "python"
    }
  },
  "cells": [
    {
      "cell_type": "markdown",
      "metadata": {
        "id": "view-in-github",
        "colab_type": "text"
      },
      "source": [
        "<a href=\"https://colab.research.google.com/github/swathimanoharan1/Assignment-Submission-/blob/main/Assignment_day_4_and_5.ipynb\" target=\"_parent\"><img src=\"https://colab.research.google.com/assets/colab-badge.svg\" alt=\"Open In Colab\"/></a>"
      ]
    },
    {
      "cell_type": "code",
      "metadata": {
        "colab": {
          "base_uri": "https://localhost:8080/"
        },
        "id": "GWOfEWfdtiwZ",
        "outputId": "6f0c19e2-6714-4de2-bade-e130ebf16782"
      },
      "source": [
        "# Program to check a number is prime or not\n",
        "n = int(input(\"Enter a number: \"))\n",
        "if n>1:\n",
        "  for i in range(2,n):\n",
        "    if (n%i)==0:\n",
        "      print(n,\"is not a prime number\")\n",
        "      print(i,\"times\",n//i,\"is\",n)\n",
        "      break\n",
        "    else:\n",
        "      print(n,\"is a prime number\")\n",
        "else:\n",
        "  print(n,\"is not a prime number\")"
      ],
      "execution_count": 8,
      "outputs": [
        {
          "output_type": "stream",
          "text": [
            "Enter a number: 256\n",
            "256 is not a prime number\n",
            "2 times 128 is 256\n"
          ],
          "name": "stdout"
        }
      ]
    },
    {
      "cell_type": "code",
      "metadata": {
        "id": "fzoDtLvkvRD2"
      },
      "source": [
        "pip install pytube\n",
        "from pytube import YouTube\n",
        "url='https://www.youtube.com/watch?v=HagVnWAeGcM&t=15s'\n",
        "mp4files = yt.filter('mp4')\n",
        "d_video = yt.get(mp4files[-1].extension,mp4files[-1].resolution)\n",
        "print('Task Completed!') \n"
      ],
      "execution_count": 14,
      "outputs": []
    }
  ]
}
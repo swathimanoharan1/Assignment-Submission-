{
  "nbformat": 4,
  "nbformat_minor": 0,
  "metadata": {
    "colab": {
      "name": "Assingnment day 2 swathi.ipynb",
      "provenance": [],
      "authorship_tag": "ABX9TyO5VT/QnTjy0+fSKl6COKHt",
      "include_colab_link": true
    },
    "kernelspec": {
      "name": "python3",
      "display_name": "Python 3"
    },
    "language_info": {
      "name": "python"
    }
  },
  "cells": [
    {
      "cell_type": "markdown",
      "metadata": {
        "id": "view-in-github",
        "colab_type": "text"
      },
      "source": [
        "<a href=\"https://colab.research.google.com/github/swathimanoharan1/Assignment-Submission-/blob/main/Assingnment_day_2_swathi.ipynb\" target=\"_parent\"><img src=\"https://colab.research.google.com/assets/colab-badge.svg\" alt=\"Open In Colab\"/></a>"
      ]
    },
    {
      "cell_type": "code",
      "metadata": {
        "colab": {
          "base_uri": "https://localhost:8080/"
        },
        "id": "JwpOVeWap96_",
        "outputId": "8be1d511-60be-43fb-83eb-dab7440a2996"
      },
      "source": [
        "maxTicketsAvailable=5\n",
        "participants=[]\n",
        "import random\n",
        "for i in range (0,5):\n",
        "  winner=input(\"Enter name of paticipant:\")\n",
        "n=random.randint(0,maxTicketsAvailable-1)\n",
        "print(\"Winner is : \",winner)\n",
        "\n",
        "\n"
      ],
      "execution_count": null,
      "outputs": [
        {
          "output_type": "stream",
          "text": [
            "Enter name of paticipant:Sai\n",
            "Enter name of paticipant:Priya\n",
            "Enter name of paticipant:Swathi\n",
            "Enter name of paticipant:Sree\n",
            "Enter name of paticipant:Alan\n",
            "Winner is :  Alan\n"
          ],
          "name": "stdout"
        }
      ]
    }
  ]
}
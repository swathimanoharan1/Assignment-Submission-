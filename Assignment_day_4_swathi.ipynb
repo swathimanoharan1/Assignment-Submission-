{
  "nbformat": 4,
  "nbformat_minor": 0,
  "metadata": {
    "colab": {
      "name": "Assignment day 4 swathi.ipynb",
      "provenance": [],
      "authorship_tag": "ABX9TyP+tt5TwfVPcBGzeRh+fr1X",
      "include_colab_link": true
    },
    "kernelspec": {
      "name": "python3",
      "display_name": "Python 3"
    },
    "language_info": {
      "name": "python"
    }
  },
  "cells": [
    {
      "cell_type": "markdown",
      "metadata": {
        "id": "view-in-github",
        "colab_type": "text"
      },
      "source": [
        "<a href=\"https://colab.research.google.com/github/swathimanoharan1/Assignment-Submission-/blob/main/Assignment_day_4_swathi.ipynb\" target=\"_parent\"><img src=\"https://colab.research.google.com/assets/colab-badge.svg\" alt=\"Open In Colab\"/></a>"
      ]
    },
    {
      "cell_type": "code",
      "metadata": {
        "colab": {
          "base_uri": "https://localhost:8080/"
        },
        "id": "LBoEGJ3Y0w3v",
        "outputId": "f8d257fd-4872-482f-8a11-8a1d5e5feb86"
      },
      "source": [
        "Altitude = str(\"1000 ft\")\n",
        "print(\"Tell Pilot: \")\n",
        "if str(Altitude == \"1000ft\"):\n",
        "  print(\"Safe to land\")\n",
        "elif str((Altitude > \"1000 ft\") and ( Altitude < \"5000 ft\")):\n",
        "  print(\"Bring down to 1000 ft\")\n",
        "else:\n",
        "  print(\"Go around and try later\")\n"
      ],
      "execution_count": 10,
      "outputs": [
        {
          "output_type": "stream",
          "text": [
            "Tell Pilot: \n",
            "Safe to land\n"
          ],
          "name": "stdout"
        }
      ]
    },
    {
      "cell_type": "code",
      "metadata": {
        "id": "boMncwffzlni"
      },
      "source": [
        ""
      ],
      "execution_count": null,
      "outputs": []
    }
  ]
}